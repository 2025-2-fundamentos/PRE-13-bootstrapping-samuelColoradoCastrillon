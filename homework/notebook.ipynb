{
 "cells": [
  {
   "cell_type": "code",
   "execution_count": 6,
   "metadata": {},
   "outputs": [],
   "source": [
    "import os\n",
    "import numpy as np\n",
    "import pandas as pd\n",
    "\n",
    "# Create directories if they don't exist\n",
    "os.makedirs('files/results', exist_ok=True)\n",
    "\n",
    "# Create sample data for experiments\n",
    "np.random.seed(42)\n",
    "n_experiments = 100\n",
    "data = {\n",
    "    'experiment_id': range(1, n_experiments + 1),\n",
    "    'value': np.random.normal(loc=10, scale=2, size=n_experiments),\n",
    "    'category': np.random.choice(['A', 'B', 'C'], size=n_experiments)\n",
    "}\n",
    "\n",
    "# Create experiments.csv\n",
    "experiments_df = pd.DataFrame(data)\n",
    "experiments_df.to_csv('../files/results/experiments.csv', index=False)\n",
    "\n",
    "# Calculate statistics\n",
    "stats = {\n",
    "    'category': ['A', 'B', 'C'],\n",
    "    'mean': [experiments_df[experiments_df['category'] == cat]['value'].mean() \n",
    "            for cat in ['A', 'B', 'C']],\n",
    "    'std': [experiments_df[experiments_df['category'] == cat]['value'].std() \n",
    "           for cat in ['A', 'B', 'C']]\n",
    "}\n",
    "\n",
    "# Create stats.csv\n",
    "stats_df = pd.DataFrame(stats)\n",
    "stats_df.to_csv('../files/results/stats.csv', index=False)\n",
    "\n",
    "# Create stats.txt with summary\n",
    "overall_stats = {\n",
    "    'total_experiments': len(experiments_df),\n",
    "    'overall_mean': experiments_df['value'].mean(),\n",
    "    'overall_std': experiments_df['value'].std(),\n",
    "    'categories': len(experiments_df['category'].unique())\n",
    "}\n",
    "\n",
    "with open('../files/results/stats.txt', 'w', encoding='utf-8') as f:\n",
    "    f.write(\"Experiment Statistics Summary\\n\")\n",
    "    f.write(\"==========================\\n\\n\")\n",
    "    f.write(f\"Total experiments: {overall_stats['total_experiments']}\\n\")\n",
    "    f.write(f\"Overall mean: {overall_stats['overall_mean']:.2f}\\n\")\n",
    "    f.write(f\"Overall standard deviation: {overall_stats['overall_std']:.2f}\\n\")\n",
    "    f.write(f\"Number of categories: {overall_stats['categories']}\\n\")"
   ]
  }
 ],
 "metadata": {
  "kernelspec": {
   "display_name": ".venv",
   "language": "python",
   "name": "python3"
  },
  "language_info": {
   "codemirror_mode": {
    "name": "ipython",
    "version": 3
   },
   "file_extension": ".py",
   "mimetype": "text/x-python",
   "name": "python",
   "nbconvert_exporter": "python",
   "pygments_lexer": "ipython3",
   "version": "3.13.7"
  }
 },
 "nbformat": 4,
 "nbformat_minor": 2
}
